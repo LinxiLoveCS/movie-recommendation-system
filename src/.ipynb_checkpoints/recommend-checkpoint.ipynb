{
 "cells": [
  {
   "cell_type": "code",
   "execution_count": 4,
   "metadata": {},
   "outputs": [
    {
     "name": "stdout",
     "output_type": "stream",
     "text": [
      "arr1和arr2的欧式距离:3.87298334621\n",
      "arr1和arr3的欧式距离:4.89897948557\n",
      "arr1和arr2的夹角余弦:0.342997170285\n",
      "arr1和arr3的夹角余弦:0.727606875109\n",
      "arr2和arr4的夹角余弦:-1.0\n",
      "arr1和arr2的汉明距离:4\n",
      "arr1和arr3的汉明距离:6\n"
     ]
    },
    {
     "ename": "NameError",
     "evalue": "name 'rating1' is not defined",
     "output_type": "error",
     "traceback": [
      "\u001b[1;31m---------------------------------------------------------------------------\u001b[0m",
      "\u001b[1;31mNameError\u001b[0m                                 Traceback (most recent call last)",
      "\u001b[1;32m<ipython-input-4-62e98067f65e>\u001b[0m in \u001b[0;36m<module>\u001b[1;34m()\u001b[0m\n\u001b[0;32m     54\u001b[0m         \u001b[1;32mreturn\u001b[0m \u001b[1;33m-\u001b[0m\u001b[1;36m1\u001b[0m \u001b[1;31m#Indicates no ratings in common\u001b[0m\u001b[1;33m\u001b[0m\u001b[0m\n\u001b[0;32m     55\u001b[0m \u001b[1;33m\u001b[0m\u001b[0m\n\u001b[1;32m---> 56\u001b[1;33m \u001b[0mprint\u001b[0m\u001b[1;33m(\u001b[0m\u001b[1;34m'arr1和arr2的曼哈顿距离:%s'\u001b[0m \u001b[1;33m%\u001b[0m \u001b[0mmanhattan\u001b[0m\u001b[1;33m(\u001b[0m\u001b[0marr1\u001b[0m\u001b[1;33m,\u001b[0m\u001b[0marr2\u001b[0m\u001b[1;33m)\u001b[0m\u001b[1;33m)\u001b[0m \u001b[1;31m# 4\u001b[0m\u001b[1;33m\u001b[0m\u001b[0m\n\u001b[0m\u001b[0;32m     57\u001b[0m \u001b[0mprint\u001b[0m\u001b[1;33m(\u001b[0m\u001b[1;34m'arr1和arr3的曼哈顿距离:%s'\u001b[0m \u001b[1;33m%\u001b[0m \u001b[0mmanhattan\u001b[0m\u001b[1;33m(\u001b[0m\u001b[0marr1\u001b[0m\u001b[1;33m,\u001b[0m\u001b[0marr3\u001b[0m\u001b[1;33m)\u001b[0m\u001b[1;33m)\u001b[0m \u001b[1;31m# 6\u001b[0m\u001b[1;33m\u001b[0m\u001b[0m\n",
      "\u001b[1;32m<ipython-input-4-62e98067f65e>\u001b[0m in \u001b[0;36mmanhattan\u001b[1;34m(x, y)\u001b[0m\n\u001b[0;32m     45\u001b[0m     \u001b[0mdistance\u001b[0m \u001b[1;33m=\u001b[0m \u001b[1;36m0\u001b[0m\u001b[1;33m;\u001b[0m\u001b[1;33m\u001b[0m\u001b[0m\n\u001b[0;32m     46\u001b[0m     \u001b[0mcommonRatings\u001b[0m \u001b[1;33m=\u001b[0m \u001b[1;32mFalse\u001b[0m\u001b[1;33m;\u001b[0m\u001b[1;33m\u001b[0m\u001b[0m\n\u001b[1;32m---> 47\u001b[1;33m     \u001b[1;32mfor\u001b[0m \u001b[0mkey\u001b[0m \u001b[1;32min\u001b[0m \u001b[0mrating1\u001b[0m\u001b[1;33m:\u001b[0m\u001b[1;33m\u001b[0m\u001b[0m\n\u001b[0m\u001b[0;32m     48\u001b[0m         \u001b[1;32mif\u001b[0m \u001b[0mkey\u001b[0m \u001b[1;32min\u001b[0m \u001b[0mrating2\u001b[0m\u001b[1;33m:\u001b[0m\u001b[1;33m\u001b[0m\u001b[0m\n\u001b[0;32m     49\u001b[0m             \u001b[0mdistance\u001b[0m \u001b[1;33m+=\u001b[0m \u001b[0mabs\u001b[0m\u001b[1;33m(\u001b[0m\u001b[0mx\u001b[0m \u001b[1;33m-\u001b[0m \u001b[0my\u001b[0m\u001b[1;33m)\u001b[0m\u001b[1;33m;\u001b[0m\u001b[1;33m\u001b[0m\u001b[0m\n",
      "\u001b[1;31mNameError\u001b[0m: name 'rating1' is not defined"
     ]
    }
   ],
   "source": [
    "import numpy as np\n",
    "#欧式距离（Euclidean Distance）\n",
    "arr1 = np.array([1,0,0,0,0,1])\n",
    "arr2 = np.array([1,1,1,2,3,1])\n",
    "arr3 = np.array([3,2,2,2,2,3])\n",
    "def EuclideanDistance(x,y):\n",
    "\td = 0\n",
    "\tfor a,b in zip(x,y):\n",
    "\t\td += (a-b)**2\n",
    "\treturn d**0.5\n",
    "\n",
    "print('arr1和arr2的欧式距离:%s' % EuclideanDistance(arr1,arr2)) # 3.87298334621\n",
    "print('arr1和arr3的欧式距离:%s' % EuclideanDistance(arr1,arr3)) # 4.89897948557\n",
    "\n",
    "\n",
    "#夹角余弦（Cosine）\n",
    "arr4 = np.array([-1,-1,-1,-2,-3,-1])\n",
    "def cosine(x,y):\n",
    "    sum_xy = 0.0;  \n",
    "    normX = 0.0;  \n",
    "    normY = 0.0;  \n",
    "    for a,b in zip(x,y):  \n",
    "        sum_xy += a*b  \n",
    "        normX += a**2  \n",
    "        normY += b**2  \n",
    "    if normX == 0.0 or normY == 0.0:  \n",
    "        return None  \n",
    "    else:  \n",
    "        return sum_xy / ((normX*normY)**0.5)  \n",
    "\n",
    "print('arr1和arr2的夹角余弦:%s' % cosine(arr1,arr2)) # 0.342997170285\n",
    "print('arr1和arr3的夹角余弦:%s' % cosine(arr1,arr3)) # 0.727606875109\n",
    "print('arr2和arr4的夹角余弦:%s' % cosine(arr2,arr4)) # -1.0\n",
    "\n",
    "#汉明距离（Hamming distance）\n",
    "def hammingDistance(x,y):\n",
    "\tdistanceArr = x - y  #[0 -1 -1 -2 -3 0]\n",
    "\treturn arr1.shape[0] - np.sum(distanceArr == 0)\n",
    "\n",
    "print('arr1和arr2的汉明距离:%s' % hammingDistance(arr1,arr2)) # 4\n",
    "print('arr1和arr3的汉明距离:%s' % hammingDistance(arr1,arr3)) # 6\n",
    "\n",
    "#曼哈顿距离\n",
    "def manhattan(x,y):\n",
    "    distance = 0;\n",
    "    for a,b in zip(x,y):\n",
    "        distance += abs(x - y);    \n",
    "    return distance;\n",
    "\n",
    "print('arr1和arr2的曼哈顿距离:%s' % manhattan(arr1,arr2)) # 4\n",
    "print('arr1和arr3的曼哈顿距离:%s' % manhattan(arr1,arr3)) # 6"
   ]
  },
  {
   "cell_type": "code",
   "execution_count": null,
   "metadata": {
    "collapsed": true
   },
   "outputs": [],
   "source": []
  }
 ],
 "metadata": {
  "kernelspec": {
   "display_name": "Python 3",
   "language": "python",
   "name": "python3"
  },
  "language_info": {
   "codemirror_mode": {
    "name": "ipython",
    "version": 3
   },
   "file_extension": ".py",
   "mimetype": "text/x-python",
   "name": "python",
   "nbconvert_exporter": "python",
   "pygments_lexer": "ipython3",
   "version": "3.6.3"
  }
 },
 "nbformat": 4,
 "nbformat_minor": 2
}
